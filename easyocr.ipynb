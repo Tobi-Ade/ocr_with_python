{
 "cells": [
  {
   "cell_type": "code",
   "execution_count": 1,
   "id": "8b335c26-69c0-4278-93f8-581432ea8e91",
   "metadata": {},
   "outputs": [],
   "source": [
    "import os \n",
    "import easyocr"
   ]
  },
  {
   "cell_type": "code",
   "execution_count": 2,
   "id": "9afcfa18-514b-4f1e-adc9-adc09563b648",
   "metadata": {},
   "outputs": [
    {
     "name": "stderr",
     "output_type": "stream",
     "text": [
      "Neither CUDA nor MPS are available - defaulting to CPU. Note: This module is much faster with a GPU.\n"
     ]
    }
   ],
   "source": [
    "reader = easyocr.Reader(['ch_sim', 'en'])"
   ]
  },
  {
   "cell_type": "code",
   "execution_count": 3,
   "id": "52e9e75f",
   "metadata": {},
   "outputs": [],
   "source": [
    "parent_dir = \"C:/Users/User/Desktop/projects/python_ocr/ocr_with_python/images\"\n",
    "\n",
    "files = [os.path.join(parent_dir, file) for file in os.listdir(parent_dir) if file.endswith(\".jpg\")]"
   ]
  },
  {
   "cell_type": "code",
   "execution_count": 6,
   "id": "b2d28fd6",
   "metadata": {},
   "outputs": [
    {
     "data": {
      "text/plain": [
       "['C:/Users/User/Desktop/projects/python_ocr/ocr_with_python/images\\\\download.jpg',\n",
       " 'C:/Users/User/Desktop/projects/python_ocr/ocr_with_python/images\\\\Iconberg-Snapper-Frame-300x457.jpg',\n",
       " 'C:/Users/User/Desktop/projects/python_ocr/ocr_with_python/images\\\\images.jpg',\n",
       " 'C:/Users/User/Desktop/projects/python_ocr/ocr_with_python/images\\\\pexels-element-digital-1051073.jpg',\n",
       " 'C:/Users/User/Desktop/projects/python_ocr/ocr_with_python/images\\\\pexels-lisa-fotios-1485548.jpg',\n",
       " 'C:/Users/User/Desktop/projects/python_ocr/ocr_with_python/images\\\\pexels-mudassir-ali-2867164.jpg']"
      ]
     },
     "execution_count": 6,
     "metadata": {},
     "output_type": "execute_result"
    }
   ],
   "source": [
    "files"
   ]
  },
  {
   "cell_type": "code",
   "execution_count": 4,
   "id": "5a5b333d-1265-4ed2-abd8-d3fdd159b0b9",
   "metadata": {},
   "outputs": [
    {
     "name": "stdout",
     "output_type": "stream",
     "text": [
      "['Dear', 'Santa', '工 Have', 'ceen', 'aoad Ahis', 'Jear ard have', 'Cee', 'fhlnrina', 'Of Wkat 工', 'WoUld like', 'For', 'Christas。', 'DCUCIe', 'PUP', 'grn', 'V', 'excited For', 'JOUv', 'Viit', 'OINC', 'NII leave', 'Som', 'Snacks for Jov awd IoUr', 'relndeer', 'OVe', 'Je', 'Ot']\n",
      "\n",
      "['HUHLTHAT', 'Sq', 'HUNGER', 'Cc', 'HANOUEWIIH', 'TTae']\n",
      "\n",
      "['NEW HOME', 'NEW BEGINNING', 'UOTTUITSCC@TR', '444255545']\n",
      "\n",
      "['TRAVEL', 'IS', 'GO00', 'FOR', 'THE', 'SOUL', 'insras', 'R0C(S', '汩', 'RE0', '']\n",
      "\n",
      "['YoU', 'Are', 'Beawhpu']\n",
      "\n",
      "['AFd', 'fg', '18']\n",
      "\n"
     ]
    }
   ],
   "source": [
    "for file in files:\n",
    "    result = reader.readtext(file, detail=0)\n",
    "    print(result)\n",
    "    print(\"\")"
   ]
  }
 ],
 "metadata": {
  "kernelspec": {
   "display_name": "Python 3 (ipykernel)",
   "language": "python",
   "name": "python3"
  },
  "language_info": {
   "codemirror_mode": {
    "name": "ipython",
    "version": 3
   },
   "file_extension": ".py",
   "mimetype": "text/x-python",
   "name": "python",
   "nbconvert_exporter": "python",
   "pygments_lexer": "ipython3",
   "version": "3.8.0"
  }
 },
 "nbformat": 4,
 "nbformat_minor": 5
}
