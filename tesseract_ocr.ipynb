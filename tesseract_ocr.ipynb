{
 "cells": [
  {
   "cell_type": "code",
   "execution_count": 1,
   "metadata": {},
   "outputs": [],
   "source": [
    "import os \n",
    "from PIL import Image\n",
    "import pytesseract\n"
   ]
  },
  {
   "cell_type": "code",
   "execution_count": 3,
   "metadata": {},
   "outputs": [],
   "source": [
    "parent_dir = \"./images\"\n",
    "\n",
    "files = [os.path.join(parent_dir, files) for files in os.listdir(parent_dir)]"
   ]
  },
  {
   "cell_type": "code",
   "execution_count": 7,
   "metadata": {},
   "outputs": [],
   "source": [
    "word_list = '\\n'.join([pytesseract.image_to_string(Image.open(file)) for file in files ])"
   ]
  },
  {
   "cell_type": "code",
   "execution_count": 9,
   "metadata": {},
   "outputs": [
    {
     "name": "stdout",
     "output_type": "stream",
     "text": [
      "Year Santa.\n",
      "T have been very good this\n",
      "Year and have been thinki\n",
      "oF what T would like For\n",
      "Christmas,\n",
      "\\ leao\n",
      "1, leicycle\n",
      "%. euRRY\n",
      "Tam very excited for your\n",
      "Visit and will leave out Some\n",
      "Snacks foe you and your\n",
      "weindeer.\n",
      "\n",
      "love\n",
      "\f\n",
      " \n",
      "     \n",
      "   \n",
      "\n",
      "NEW HOME\n",
      "Nae Lci NIN Ccl\n",
      "\f\n",
      " \n",
      "\f\n"
     ]
    }
   ],
   "source": [
    "print(word_list)"
   ]
  }
 ],
 "metadata": {
  "kernelspec": {
   "display_name": "keras_ocr",
   "language": "python",
   "name": "python3"
  },
  "language_info": {
   "codemirror_mode": {
    "name": "ipython",
    "version": 3
   },
   "file_extension": ".py",
   "mimetype": "text/x-python",
   "name": "python",
   "nbconvert_exporter": "python",
   "pygments_lexer": "ipython3",
   "version": "3.11.4"
  },
  "orig_nbformat": 4
 },
 "nbformat": 4,
 "nbformat_minor": 2
}
